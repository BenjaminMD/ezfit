{
 "cells": [
  {
   "cell_type": "code",
   "execution_count": 48,
   "metadata": {},
   "outputs": [
    {
     "data": {
      "text/html": [
       "<div>\n",
       "<style scoped>\n",
       "    .dataframe tbody tr th:only-of-type {\n",
       "        vertical-align: middle;\n",
       "    }\n",
       "\n",
       "    .dataframe tbody tr th {\n",
       "        vertical-align: top;\n",
       "    }\n",
       "\n",
       "    .dataframe thead th {\n",
       "        text-align: right;\n",
       "    }\n",
       "</style>\n",
       "<table border=\"1\" class=\"dataframe\">\n",
       "  <thead>\n",
       "    <tr style=\"text-align: right;\">\n",
       "      <th></th>\n",
       "      <th>label</th>\n",
       "      <th>type_symbol</th>\n",
       "      <th>symmetry_multiplicity</th>\n",
       "      <th>Wyckoff_symbol</th>\n",
       "      <th>fract_x</th>\n",
       "      <th>fract_y</th>\n",
       "      <th>fract_z</th>\n",
       "      <th>B_iso_or_equiv</th>\n",
       "      <th>occupancy</th>\n",
       "    </tr>\n",
       "  </thead>\n",
       "  <tbody>\n",
       "    <tr>\n",
       "      <th>0</th>\n",
       "      <td>Ni1</td>\n",
       "      <td>Ni2+</td>\n",
       "      <td>4</td>\n",
       "      <td>a</td>\n",
       "      <td>0</td>\n",
       "      <td>0</td>\n",
       "      <td>0</td>\n",
       "      <td>.</td>\n",
       "      <td>1.</td>\n",
       "    </tr>\n",
       "    <tr>\n",
       "      <th>1</th>\n",
       "      <td>O1</td>\n",
       "      <td>O2-</td>\n",
       "      <td>4</td>\n",
       "      <td>b</td>\n",
       "      <td>0.5</td>\n",
       "      <td>0.5</td>\n",
       "      <td>0.5</td>\n",
       "      <td>.</td>\n",
       "      <td>1.</td>\n",
       "    </tr>\n",
       "  </tbody>\n",
       "</table>\n",
       "</div>"
      ],
      "text/plain": [
       "  label type_symbol symmetry_multiplicity Wyckoff_symbol fract_x fract_y  \\\n",
       "0   Ni1        Ni2+                     4              a       0       0   \n",
       "1    O1         O2-                     4              b     0.5     0.5   \n",
       "\n",
       "  fract_z B_iso_or_equiv occupancy  \n",
       "0       0              .        1.  \n",
       "1     0.5              .        1.  "
      ]
     },
     "execution_count": 48,
     "metadata": {},
     "output_type": "execute_result"
    }
   ],
   "source": [
    "df"
   ]
  },
  {
   "cell_type": "code",
   "execution_count": 4,
   "metadata": {},
   "outputs": [
    {
     "data": {
      "text/plain": [
       "{'Ni1': 4.0, 'O1': 4.0}"
      ]
     },
     "execution_count": 4,
     "metadata": {},
     "output_type": "execute_result"
    }
   ],
   "source": [
    "import numpy as np\n",
    "import pandas as pd\n",
    "\n",
    "def get_sym_constraints(cif_file):\n",
    "    with open(cif_file, 'r') as f:\n",
    "        lines = f.read().split('\\n')\n",
    "    xyz_index1 = [i for i, l in enumerate(lines) if '_xyz' in l]\n",
    "    xyz_index2 = [i for i, l in enumerate(lines) if i > xyz_index1[0] and 'loop_' in l]\n",
    "    xyz_lines = lines[xyz_index1[0]+1:xyz_index2[0]]\n",
    "\n",
    "    if '_space_group_symop_id' in lines:\n",
    "        xyz_lines = [xyz[len(f'{i+1}'):] for i, xyz in enumerate(xyz_lines)]\n",
    "\n",
    "    # clean up the xyz lines remove tabs, commas, and quotes\n",
    "    for ch in [' ', '\\t', \"'\"]:\n",
    "        xyz_lines = [line.replace(ch, '') for line in xyz_lines] \n",
    "    out = [[],[],[]]\n",
    "    for xyz in xyz_lines:\n",
    "        for comp in xyz.split(','):\n",
    "            comp_ind = [(ind, comp) for ind, char in enumerate(['x', 'y', 'z']) if char in comp]\n",
    "            for ind, comp in comp_ind:\n",
    "                out[ind].append(comp)\n",
    "    xyz_lines = [','.join(comp) for comp in np.array(out).T]\n",
    "    transforms = [lambda x, y, z, coef=i: eval(f'[{coef}]') for i in xyz_lines]\n",
    "    return transforms \n",
    "\n",
    "\n",
    "def get_fract_cord(cif_file):\n",
    "    with open(cif_file, 'r') as f:\n",
    "        lines = f.read().split('\\n')\n",
    "    site_ind = [\n",
    "        ind for ind, line in enumerate(lines) if line.startswith('_atom_site_')\n",
    "    ]\n",
    "    site_slice = slice(site_ind[0], site_ind[-1]+1)\n",
    "    col_names = [line.split('_atom_site_')[-1] for line in lines[site_slice]]\n",
    "    l_site = site_ind[-1] + 1\n",
    "    number_symb_ind = [l_site + i for i, line in enumerate(lines[l_site + 1:])\n",
    "                       if '#' in line]\n",
    "    if number_symb_ind:\n",
    "        data = [line.split() for line in lines[site_ind[-1]+1:number_symb_ind[0]+1]]\n",
    "    else:\n",
    "        data = [line.split() for line in lines[site_ind[-1]+1:]]\n",
    "    df = pd.DataFrame(data, columns=col_names)\n",
    "    return df\n",
    "\n",
    "def gen_site_pos(df, transforms):\n",
    "    frac_label  = {}\n",
    "    for lab in df.label.unique():  \n",
    "        row = df.loc[df.label == lab,:]\n",
    "        x, y, z = [row[xyz].to_numpy()[0] for xyz in ['fract_x', 'fract_y', 'fract_z']]\n",
    "\n",
    "        x, y, z = [float(i.split('(')[0]) for i in [x, y, z]]\n",
    "        frac = np.unique([t(x, y, z) for t in transforms], axis=0)\n",
    "        frac = frac % 1\n",
    "        frac = np.unique(frac, axis=0)\n",
    "        frac_label[lab] = frac\n",
    "    return frac_label\n",
    "\n",
    "def count_atom(frac_label, df):\n",
    "    atom_multiplicity = {}\n",
    "    for label, pos in frac_label.items():\n",
    "        atom_multiplicity[label] = np.array(pos).shape[0]\n",
    "    # rescale atom_multiplicity by the occupancy\n",
    "    for label, occ in zip(df.label, df.occupancy):\n",
    "        atom_multiplicity[label] *= float(occ)\n",
    "    return atom_multiplicity\n",
    "        \n",
    "\n",
    "cif_file = '/home/cipmin/5_Felix/GitHub_EzFit/cifs/NiO.cif'\n",
    "df = get_fract_cord(cif_file)\n",
    "transforms = get_sym_constraints(cif_file)\n",
    "frac_label = gen_site_pos(df, transforms)\n",
    "count_atom(frac_label, df)\n",
    "\n"
   ]
  },
  {
   "cell_type": "markdown",
   "metadata": {},
   "source": [
    "$S_\\mathrm{molar_a} = \\frac{S_a\\cdot(n_a * f1_a^2)^{-1}}{\\sum_i S_i\\cdot(n_i * f1_i^2)^{-1}}$"
   ]
  },
  {
   "cell_type": "code",
   "execution_count": 7,
   "metadata": {},
   "outputs": [
    {
     "data": {
      "text/plain": [
       "1"
      ]
     },
     "execution_count": 7,
     "metadata": {},
     "output_type": "execute_result"
    }
   ],
   "source": [
    "denom = 0\n",
    "\n",
    "denom += 1\n",
    "\n",
    "denom"
   ]
  },
  {
   "cell_type": "code",
   "execution_count": 8,
   "metadata": {},
   "outputs": [
    {
     "ename": "NameError",
     "evalue": "name 'a' is not defined",
     "output_type": "error",
     "traceback": [
      "\u001b[0;31m---------------------------------------------------------------------------\u001b[0m",
      "\u001b[0;31mNameError\u001b[0m                                 Traceback (most recent call last)",
      "\u001b[0;32m/tmp/ipykernel_804616/3929210396.py\u001b[0m in \u001b[0;36m<module>\u001b[0;34m\u001b[0m\n\u001b[0;32m----> 1\u001b[0;31m \u001b[0ma\u001b[0m \u001b[0;34m+=\u001b[0m \u001b[0;36m1\u001b[0m\u001b[0;34m\u001b[0m\u001b[0;34m\u001b[0m\u001b[0m\n\u001b[0m",
      "\u001b[0;31mNameError\u001b[0m: name 'a' is not defined"
     ]
    }
   ],
   "source": [
    "a += 1"
   ]
  }
 ],
 "metadata": {
  "kernelspec": {
   "display_name": "Python 3.7.11 ('diffpy': conda)",
   "language": "python",
   "name": "python3"
  },
  "language_info": {
   "codemirror_mode": {
    "name": "ipython",
    "version": 3
   },
   "file_extension": ".py",
   "mimetype": "text/x-python",
   "name": "python",
   "nbconvert_exporter": "python",
   "pygments_lexer": "ipython3",
   "version": "3.7.11"
  },
  "orig_nbformat": 4,
  "vscode": {
   "interpreter": {
    "hash": "b3d6a2353dd0852aede38a33d6e44f52c5dc399ab1f2141f14abead12d25276e"
   }
  }
 },
 "nbformat": 4,
 "nbformat_minor": 2
}
